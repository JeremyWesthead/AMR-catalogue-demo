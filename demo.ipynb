{
 "cells": [
  {
   "cell_type": "markdown",
   "metadata": {},
   "source": [
    "# AMR catalogue demo\n",
    "This notebook should show how to utilise different AMR catalogues within `piezo` and `gnomon` to produce predictions.\n"
   ]
  },
  {
   "cell_type": "markdown",
   "metadata": {},
   "source": [
    "## Piezo\n",
    "`piezo` allows for loading of an AMR catalogue, and producing predictions from mutations"
   ]
  },
  {
   "cell_type": "code",
   "execution_count": 3,
   "metadata": {},
   "outputs": [
    {
     "data": {
      "text/plain": [
       "{'RIF': 'R'}"
      ]
     },
     "execution_count": 3,
     "metadata": {},
     "output_type": "execute_result"
    }
   ],
   "source": [
    "#This is a basic demo of how piezo works\n",
    "import piezo\n",
    "\n",
    "#Load the NEJM catalogue\n",
    "catalogue = piezo.ResistanceCatalogue(\"tuberculosis_amr_catalogues/catalogues/NC_000962.3/NC_000962.3_NEJM2018_v1.1_GARC1_RUS.csv\")\n",
    "\n",
    "#Get the catalogue's prediction for rpoB@S450L\n",
    "catalogue.predict(\"rpoB@S450L\")\n"
   ]
  },
  {
   "cell_type": "markdown",
   "metadata": {},
   "source": [
    "## Gumpy\n",
    "`gumpy` is a genetics library, which allows loading of reference genomes and samples (via VCF) to produce helpful outputs such as genome variants and gene mutations."
   ]
  },
  {
   "cell_type": "code",
   "execution_count": 4,
   "metadata": {},
   "outputs": [],
   "source": [
    "#Basic demo of how gumpy works\n",
    "import gumpy\n",
    "\n",
    "#Load a reference genome (this takes ~40s)\n",
    "reference = gumpy.Genome(\"tuberculosis_amr_catalogues/catalogues/NC_000962.3/NC_000962.3.gbk\")"
   ]
  },
  {
   "cell_type": "code",
   "execution_count": 5,
   "metadata": {},
   "outputs": [
    {
     "name": "stdout",
     "output_type": "stream",
     "text": [
      "['7570c>t' '7585g>c' '761155c>t' '801268t>c']\n",
      "rpoB ['S450L']\n",
      "gyrA ['A90V' 'S95T']\n",
      "rplC ['C154R']\n"
     ]
    }
   ],
   "source": [
    "#Load a VCF\n",
    "#In this case, a VCF resulting from a synthetic sample which has known mutations\n",
    "vcf = gumpy.VCFFile(\"XDR_demo.vcf\")\n",
    "\n",
    "#Get the sample genome\n",
    "sample = reference + vcf\n",
    "\n",
    "#Get the difference\n",
    "diff = reference - sample\n",
    "\n",
    "#Pull out the genome level variants\n",
    "print(diff.variants)\n",
    "\n",
    "#Get the gene level mutations (simplified here as we already know the genes with mutations)\n",
    "#In reality, iterating the genes can be used to detect all mutations\n",
    "genes = ['rpoB', 'gyrA', 'rplC']\n",
    "mutations = []\n",
    "for gene in genes:\n",
    "    diff = reference.build_gene(gene) - sample.build_gene(gene)\n",
    "    print(gene, diff.mutations)\n",
    "    for mutation in diff.mutations:\n",
    "        mutations.append(gene + \"@\" + mutation)"
   ]
  },
  {
   "cell_type": "code",
   "execution_count": 6,
   "metadata": {},
   "outputs": [
    {
     "name": "stdout",
     "output_type": "stream",
     "text": [
      "rpoB@S450L {'RIF': 'R'}\n",
      "gyrA@A90V S\n",
      "gyrA@S95T S\n",
      "rplC@C154R S\n"
     ]
    }
   ],
   "source": [
    "#Utilise the mutations found by gumpy to produce predictions from the catalogue\n",
    "for mutation in mutations:\n",
    "    print(mutation, catalogue.predict(mutation))"
   ]
  },
  {
   "cell_type": "code",
   "execution_count": 7,
   "metadata": {},
   "outputs": [
    {
     "name": "stdout",
     "output_type": "stream",
     "text": [
      "rpoB@S450L {'RIF': 'R'}\n",
      "gyrA@A90V {'LEV': 'R', 'MXF': 'R'}\n",
      "gyrA@S95T {'LEV': 'S', 'MXF': 'S'}\n",
      "rplC@C154R {'LZD': 'R'}\n"
     ]
    }
   ],
   "source": [
    "#If we decide that another catalogue is better, its easy to swap out\n",
    "#Let's try with the WHO catalogue\n",
    "catalogue = piezo.ResistanceCatalogue(\"tuberculosis_amr_catalogues/catalogues/NC_000962.3/WHO-UCN-GTB-PCI-2021.7.GARC.csv\")\n",
    "for mutation in mutations:\n",
    "    print(mutation, catalogue.predict(mutation))"
   ]
  },
  {
   "cell_type": "markdown",
   "metadata": {},
   "source": [
    "## Gnomon\n",
    "Above shows how simple this makes the process programatically, but `gnomon` can be utilised to produce these automatically through a single command line call, as well as providing an API for programatic interface."
   ]
  },
  {
   "cell_type": "code",
   "execution_count": 8,
   "metadata": {},
   "outputs": [
    {
     "data": {
      "text/plain": [
       "['zsh:1: command not found: gnomon']"
      ]
     },
     "execution_count": 8,
     "metadata": {},
     "output_type": "execute_result"
    }
   ],
   "source": [
    "#Produce an antibiogram in a single command line call\n",
    "!!gnomon --genome_object tuberculosis_amr_catalogues/catalogues/NC_000962.3/NC_000962.3.gbk --catalogue tuberculosis_amr_catalogues/catalogues/NC_000962.3/WHO-UCN-GTB-PCI-2021.7.GARC.csv --vcf_file XDR_demo.vcf --output_dir ./gnomon-out --json"
   ]
  },
  {
   "cell_type": "code",
   "execution_count": 9,
   "metadata": {},
   "outputs": [
    {
     "name": "stdout",
     "output_type": "stream",
     "text": [
      "   UNIQUEID    VARIANT  IS_SNP  NUCLEOTIDE_INDEX  IS_INDEL  IS_NULL  IS_HET  \\\n",
      "0  XDR_demo    7570c>t    True              7570     False    False   False   \n",
      "1  XDR_demo    7585g>c    True              7585     False    False   False   \n",
      "2  XDR_demo  761155c>t    True            761155     False    False   False   \n",
      "3  XDR_demo  801268t>c    True            801268     False    False   False   \n",
      "\n",
      "   INDEL_LENGTH  INDEL_NUCLEOTIDES  \n",
      "0             0                NaN  \n",
      "1             0                NaN  \n",
      "2             0                NaN  \n",
      "3             0                NaN  \n"
     ]
    }
   ],
   "source": [
    "#Checking the output files produced by gnomon\n",
    "import pandas as pd\n",
    "\n",
    "#The genome variants\n",
    "print(pd.read_csv(\"gnomon-out/XDR_demo.variants.csv\"))"
   ]
  },
  {
   "cell_type": "code",
   "execution_count": 10,
   "metadata": {},
   "outputs": [
    {
     "name": "stdout",
     "output_type": "stream",
     "text": [
      "   UNIQUEID  GENE MUTATION  NUCLEOTIDE_NUMBER  NUCLEOTIDE_INDEX  \\\n",
      "0  XDR_demo  gyrA     A90V                NaN               NaN   \n",
      "1  XDR_demo  gyrA     S95T                NaN               NaN   \n",
      "2  XDR_demo  rplC    C154R                NaN               NaN   \n",
      "3  XDR_demo  rpoB    S450L                NaN               NaN   \n",
      "\n",
      "   GENE_POSITION  ALT  REF  CODES_PROTEIN  INDEL_LENGTH  ...  IS_CDS  IS_HET  \\\n",
      "0             90  gtg  gcg           True           NaN  ...    True   False   \n",
      "1             95  acc  agc           True           NaN  ...    True   False   \n",
      "2            154  cgt  tgt           True           NaN  ...    True   False   \n",
      "3            450  ttg  tcg           True           NaN  ...    True   False   \n",
      "\n",
      "   IS_NULL  IS_PROMOTER  IS_SNP  AMINO_ACID_NUMBER  AMINO_ACID_SEQUENCE  \\\n",
      "0    False        False    True                 90                    V   \n",
      "1    False        False    True                 95                    T   \n",
      "2    False        False    True                154                    R   \n",
      "3    False        False    True                450                    L   \n",
      "\n",
      "  IS_SYNONYMOUS  IS_NONSYNONYMOUS  NUMBER_NUCLEOTIDE_CHANGES  \n",
      "0         False              True                          1  \n",
      "1         False              True                          1  \n",
      "2         False              True                          1  \n",
      "3         False              True                          1  \n",
      "\n",
      "[4 rows x 21 columns]\n"
     ]
    }
   ],
   "source": [
    "#The gene mutations\n",
    "print(pd.read_csv(\"gnomon-out/XDR_demo.mutations.csv\"))"
   ]
  },
  {
   "cell_type": "code",
   "execution_count": 11,
   "metadata": {},
   "outputs": [
    {
     "name": "stdout",
     "output_type": "stream",
     "text": [
      "   UNIQUEID DRUG  GENE MUTATION          CATALOGUE_NAME PREDICTION\n",
      "0  XDR_demo  LEV  gyrA     A90V  WHO-UCN-GTB-PCI-2021.7          R\n",
      "1  XDR_demo  MXF  gyrA     A90V  WHO-UCN-GTB-PCI-2021.7          R\n",
      "2  XDR_demo  LEV  gyrA     S95T  WHO-UCN-GTB-PCI-2021.7          S\n",
      "3  XDR_demo  MXF  gyrA     S95T  WHO-UCN-GTB-PCI-2021.7          S\n",
      "4  XDR_demo  LZD  rplC    C154R  WHO-UCN-GTB-PCI-2021.7          R\n",
      "5  XDR_demo  RIF  rpoB    S450L  WHO-UCN-GTB-PCI-2021.7          R\n"
     ]
    }
   ],
   "source": [
    "#The antibiogram\n",
    "print(pd.read_csv(\"gnomon-out/XDR_demo.effects.csv\"))"
   ]
  },
  {
   "cell_type": "code",
   "execution_count": 17,
   "metadata": {},
   "outputs": [
    {
     "name": "stdout",
     "output_type": "stream",
     "text": [
      "[\n",
      "  {\n",
      "    \"GENE\": \"gyrA\",\n",
      "    \"MUTATION\": \"A90V\",\n",
      "    \"PREDICTION\": \"R\"\n",
      "  },\n",
      "  {\n",
      "    \"GENE\": \"gyrA\",\n",
      "    \"MUTATION\": \"S95T\",\n",
      "    \"PREDICTION\": \"S\"\n",
      "  },\n",
      "  {\n",
      "    \"PHENOTYPE\": \"R\"\n",
      "  }\n",
      "]\n"
     ]
    }
   ],
   "source": [
    "#The output JSON\n",
    "import json\n",
    "out = json.load(open(\"gnomon-out/XDR_demo.gnomon-out.json\"))\n",
    "\n",
    "#Get the effects of mutations on levofloxacin, as well as predicted phenotype\n",
    "print(json.dumps(out['data']['EFFECTS']['LEV'], indent=2))"
   ]
  },
  {
   "cell_type": "markdown",
   "metadata": {},
   "source": [
    "## More advanced\n",
    "As `gnomon` writes output files, we can go back to samples previously processed and produce new predictions with a new catalogue without having to actually re-process entirely. This kind of processing is likely not worthwhile for a single sample, but avoiding generating mutations will provide significant speed up for multiple samples."
   ]
  },
  {
   "cell_type": "code",
   "execution_count": 18,
   "metadata": {},
   "outputs": [
    {
     "name": "stderr",
     "output_type": "stream",
     "text": [
      "100%|██████████| 4/4 [00:00<00:00, 1563.87it/s]"
     ]
    },
    {
     "name": "stdout",
     "output_type": "stream",
     "text": [
      "   UNIQUEID DRUG  GENE MUTATION CATALOGUE_NAME PREDICTION\n",
      "0  XDR_demo  RIF  rpoB    S450L       NEJM2018          R\n"
     ]
    },
    {
     "name": "stderr",
     "output_type": "stream",
     "text": [
      "\n"
     ]
    }
   ],
   "source": [
    "import gnomon\n",
    "import os\n",
    "\n",
    "#We need a dict of reference genes\n",
    "genes = ['rpoB', 'gyrA', 'rplC']\n",
    "referenceGenes = {gene: reference.build_gene(gene) for gene in genes}\n",
    "\n",
    "#The VCF stem (which is used as a sample ID)\n",
    "vcfStem = os.path.split(\"XDR_demo.vcf\")[-1].split(\".\")[0]\n",
    "outputDir = 'gnomon-out'\n",
    "\n",
    "#Read the mutations produced by gnomon the last time\n",
    "mutations = pd.read_csv(\"gnomon-out/XDR_demo.mutations.csv\")\n",
    "\n",
    "#Re-make the effects using a new catalogue (in this case, the NEJM catalogue)\n",
    "catalogue = piezo.ResistanceCatalogue(\"tuberculosis_amr_catalogues/catalogues/NC_000962.3/NC_000962.3_NEJM2018_v1.1_GARC1_RUS.csv\")\n",
    "\n",
    "effects, _ = gnomon.populateEffects(None, outputDir, catalogue, mutations, referenceGenes, vcfStem)\n",
    "\n",
    "print(effects)\n",
    "\n",
    "#Update the JSON output with this too\n",
    "variants = pd.read_csv(\"gnomon-out/XDR_demo.variants.csv\")\n",
    "\n",
    "gnomon.saveJSON(variants, mutations, effects, \"gnomon-out\", vcfStem, \"RUS\", \"1.0.0\")"
   ]
  }
 ],
 "metadata": {
  "kernelspec": {
   "display_name": "Python 3.10.5 64-bit",
   "language": "python",
   "name": "python3"
  },
  "language_info": {
   "codemirror_mode": {
    "name": "ipython",
    "version": 3
   },
   "file_extension": ".py",
   "mimetype": "text/x-python",
   "name": "python",
   "nbconvert_exporter": "python",
   "pygments_lexer": "ipython3",
   "version": "3.10.6"
  },
  "orig_nbformat": 4,
  "vscode": {
   "interpreter": {
    "hash": "e7370f93d1d0cde622a1f8e1c04877d8463912d04d973331ad4851f04de6915a"
   }
  }
 },
 "nbformat": 4,
 "nbformat_minor": 2
}
